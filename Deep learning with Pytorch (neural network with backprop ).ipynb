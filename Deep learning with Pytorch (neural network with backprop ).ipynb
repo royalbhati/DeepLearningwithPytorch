{
 "cells": [
  {
   "cell_type": "code",
   "execution_count": 1,
   "metadata": {},
   "outputs": [],
   "source": [
    "import torch"
   ]
  },
  {
   "cell_type": "code",
   "execution_count": 3,
   "metadata": {},
   "outputs": [
    {
     "name": "stdout",
     "output_type": "stream",
     "text": [
      "0.4.0\n"
     ]
    }
   ],
   "source": [
    "print(torch.__version__) # make sure using an updated version"
   ]
  },
  {
   "cell_type": "code",
   "execution_count": 5,
   "metadata": {},
   "outputs": [],
   "source": [
    "import torch \n",
    "import torchvision\n",
    "import torch.nn as nn\n",
    "import numpy as np\n",
    "import torchvision.transforms as transforms"
   ]
  },
  {
   "cell_type": "markdown",
   "metadata": {},
   "source": [
    "## To initialize tensor variables in pytorch we need to use the following syntax :\n",
    "\n",
    "## variable_name=torch.tensor(value)\n",
    "\n",
    "\n",
    "#### definition of tensor:\n",
    "tensors is an object that is invariant under change of coordinated and has companents that change in predictable way under change of coordinates.\n",
    "\n",
    "\n",
    "\n",
    "--think tensor as an multidimensional array \n",
    "\n",
    "--they are generalization of vectors,arrays and scalars\n",
    "\n",
    "-scalars are rank 0 tensors\n",
    "\n",
    "-vectors are rank 1 tensors\n",
    "\n",
    "-2d arrays are rank 2 tensors\n",
    "\n"
   ]
  },
  {
   "cell_type": "code",
   "execution_count": 21,
   "metadata": {},
   "outputs": [],
   "source": [
    "x=torch.tensor(5) "
   ]
  },
  {
   "cell_type": "code",
   "execution_count": 30,
   "metadata": {},
   "outputs": [
    {
     "name": "stdout",
     "output_type": "stream",
     "text": [
      "<class 'torch.Tensor'>\n"
     ]
    }
   ],
   "source": [
    "print(type(x)) # x is a tensor "
   ]
  },
  {
   "cell_type": "code",
   "execution_count": 31,
   "metadata": {
    "scrolled": true
   },
   "outputs": [
    {
     "name": "stdout",
     "output_type": "stream",
     "text": [
      "tensor(5)\n"
     ]
    }
   ],
   "source": [
    "print(x) "
   ]
  },
  {
   "cell_type": "code",
   "execution_count": null,
   "metadata": {},
   "outputs": [],
   "source": [
    "#simple operations"
   ]
  },
  {
   "cell_type": "code",
   "execution_count": 23,
   "metadata": {},
   "outputs": [],
   "source": [
    "y=torch.tensor(6)"
   ]
  },
  {
   "cell_type": "code",
   "execution_count": 29,
   "metadata": {},
   "outputs": [],
   "source": [
    "result=x*y"
   ]
  },
  {
   "cell_type": "code",
   "execution_count": 28,
   "metadata": {},
   "outputs": [
    {
     "data": {
      "text/plain": [
       "tensor(25)"
      ]
     },
     "execution_count": 28,
     "metadata": {},
     "output_type": "execute_result"
    }
   ],
   "source": [
    "result"
   ]
  },
  {
   "cell_type": "code",
   "execution_count": 32,
   "metadata": {},
   "outputs": [],
   "source": [
    "#initializing a tensor with multiple values"
   ]
  },
  {
   "cell_type": "code",
   "execution_count": 33,
   "metadata": {},
   "outputs": [],
   "source": [
    "x=torch.randn(10,3)"
   ]
  },
  {
   "cell_type": "code",
   "execution_count": 34,
   "metadata": {},
   "outputs": [
    {
     "name": "stdout",
     "output_type": "stream",
     "text": [
      "tensor([[ 0.0009,  1.0217,  0.5399],\n",
      "        [-1.8759,  0.3641,  0.2264],\n",
      "        [ 1.0167,  0.0824, -0.9114],\n",
      "        [-0.2348,  0.6934,  0.2070],\n",
      "        [-1.2640,  0.5828,  0.7972],\n",
      "        [-1.9286,  0.7272,  1.2729],\n",
      "        [ 0.1888,  0.8530,  0.4818],\n",
      "        [-0.6886, -0.5963,  0.0451],\n",
      "        [-0.5443,  0.4891,  0.4898],\n",
      "        [-0.2366,  0.2857, -1.7367]])\n"
     ]
    }
   ],
   "source": [
    "print(x)"
   ]
  },
  {
   "cell_type": "markdown",
   "metadata": {},
   "source": [
    "# Simple gradient calculation in pytorch"
   ]
  },
  {
   "cell_type": "code",
   "execution_count": 94,
   "metadata": {},
   "outputs": [],
   "source": [
    "x = torch.tensor(1, requires_grad=True) # requires_grad=True tells that the gradient has to be calculated\n",
    "w = torch.tensor(2, requires_grad=True)\n"
   ]
  },
  {
   "cell_type": "code",
   "execution_count": 95,
   "metadata": {},
   "outputs": [],
   "source": [
    "y  = w * x #computational graph"
   ]
  },
  {
   "cell_type": "code",
   "execution_count": 96,
   "metadata": {},
   "outputs": [],
   "source": [
    "y.backward() # backward function calculates the gradients"
   ]
  },
  {
   "cell_type": "code",
   "execution_count": 97,
   "metadata": {},
   "outputs": [
    {
     "name": "stdout",
     "output_type": "stream",
     "text": [
      "tensor(1) tensor(2)\n"
     ]
    }
   ],
   "source": [
    "print(w.grad , x.grad ) # returns the value of calculated gradients\n"
   ]
  },
  {
   "cell_type": "code",
   "execution_count": 98,
   "metadata": {},
   "outputs": [],
   "source": [
    "# A bit advanced example "
   ]
  },
  {
   "cell_type": "code",
   "execution_count": 99,
   "metadata": {},
   "outputs": [],
   "source": [
    "x=torch.randn(12,5) \n",
    "'''10 is the number of rows and 3 is the number of columns.\n",
    "    more intiutively, 10 is the no. of inputs and 3 is number of features '''\n",
    "\n",
    "\n",
    "\n",
    "y=torch.randn(12,1)\n"
   ]
  },
  {
   "cell_type": "code",
   "execution_count": 100,
   "metadata": {},
   "outputs": [
    {
     "name": "stdout",
     "output_type": "stream",
     "text": [
      "weight Parameter containing:\n",
      "tensor([[-0.4365,  0.0946, -0.0253, -0.2034,  0.2976]]) bias Parameter containing:\n",
      "tensor(1.00000e-02 *\n",
      "       [-9.3890])\n"
     ]
    }
   ],
   "source": [
    "NN = nn.Linear(5, 1) # defining a fully connected neural network\n",
    "\n",
    "''' 5 is number of input neurons (no. of features of x)\n",
    "    1 is the number of output neurons'''\n",
    "\n",
    "\n",
    "print ('weight',linear.weight,'bias',linear.bias)"
   ]
  },
  {
   "cell_type": "code",
   "execution_count": 101,
   "metadata": {},
   "outputs": [],
   "source": [
    "loss_cal= nn.MSELoss() # defining the criteria for loss calculation ( Mean squared error (y'-y)^2)\n",
    "optimizer = torch.optim.Adam(NN.parameters(), lr=0.01) #specifying the optimizer (Adam) ,lr =learning rate"
   ]
  },
  {
   "cell_type": "code",
   "execution_count": 102,
   "metadata": {},
   "outputs": [],
   "source": [
    "ypred = NN(x) #forward pass"
   ]
  },
  {
   "cell_type": "code",
   "execution_count": 103,
   "metadata": {},
   "outputs": [
    {
     "data": {
      "text/plain": [
       "('loss:', 0.8311930298805237)"
      ]
     },
     "execution_count": 103,
     "metadata": {},
     "output_type": "execute_result"
    }
   ],
   "source": [
    "loss = criterion(ypred, y) #loss calculation\n",
    "'loss:',loss.item()"
   ]
  },
  {
   "cell_type": "code",
   "execution_count": 104,
   "metadata": {},
   "outputs": [],
   "source": [
    "loss.backward() # Back propogation (calculating gradients)"
   ]
  },
  {
   "cell_type": "code",
   "execution_count": 105,
   "metadata": {},
   "outputs": [
    {
     "name": "stdout",
     "output_type": "stream",
     "text": [
      "weight gradient - tensor([[-0.6815,  0.7162, -0.0385, -0.0338,  1.9104]]) bias gradient- tensor([ 0.1016])\n"
     ]
    }
   ],
   "source": [
    "print('weight gradient -', linear.weight.grad,'bias gradient-',linear.bias.grad)\n",
    "\n",
    "#since we have five inputs so five gradients and one output so one bias"
   ]
  },
  {
   "cell_type": "code",
   "execution_count": 106,
   "metadata": {},
   "outputs": [],
   "source": [
    "optimizer.step()"
   ]
  },
  {
   "cell_type": "code",
   "execution_count": 107,
   "metadata": {},
   "outputs": [],
   "source": [
    "## repeating the above process several times to check how loss decreases"
   ]
  },
  {
   "cell_type": "code",
   "execution_count": 108,
   "metadata": {},
   "outputs": [
    {
     "name": "stdout",
     "output_type": "stream",
     "text": [
      "loss afterEpoch0 0.8084380030632019\n",
      "loss afterEpoch1 0.7873073220252991\n",
      "loss afterEpoch2 0.7678014636039734\n",
      "loss afterEpoch3 0.7499198913574219\n",
      "loss afterEpoch4 0.7336627840995789\n"
     ]
    }
   ],
   "source": [
    "for epoch in range(5):\n",
    "    ep='Epoch'+str(epoch)\n",
    "    ypred = NN(x)\n",
    "    loss = loss_cal(ypred, y)\n",
    "    optimizer.step()\n",
    "    print('loss after'+ep, loss.item())\n",
    "    "
   ]
  },
  {
   "cell_type": "markdown",
   "metadata": {},
   "source": [
    "We can see loss is gradually decreasing"
   ]
  },
  {
   "cell_type": "markdown",
   "metadata": {},
   "source": [
    "\n",
    "\n",
    "# Stay tuned for part 2  \n",
    "\n",
    "## In part 2 I will cover an actual model (resnet or something like that)  with real dataset"
   ]
  },
  {
   "cell_type": "code",
   "execution_count": null,
   "metadata": {},
   "outputs": [],
   "source": []
  }
 ],
 "metadata": {
  "kernelspec": {
   "display_name": "Python 3",
   "language": "python",
   "name": "python3"
  },
  "language_info": {
   "codemirror_mode": {
    "name": "ipython",
    "version": 3
   },
   "file_extension": ".py",
   "mimetype": "text/x-python",
   "name": "python",
   "nbconvert_exporter": "python",
   "pygments_lexer": "ipython3",
   "version": "3.6.5"
  }
 },
 "nbformat": 4,
 "nbformat_minor": 2
}
